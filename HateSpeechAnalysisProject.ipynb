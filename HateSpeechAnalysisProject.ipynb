{
 "cells": [
  {
   "cell_type": "code",
   "execution_count": 12,
   "id": "62ee1065",
   "metadata": {},
   "outputs": [],
   "source": [
    "#!pip install nltk\n",
    "#!pip install imbalanced-learn"
   ]
  },
  {
   "cell_type": "code",
   "execution_count": 13,
   "id": "deed9754",
   "metadata": {},
   "outputs": [
    {
     "name": "stderr",
     "output_type": "stream",
     "text": [
      "[nltk_data] Downloading package stopwords to\n",
      "[nltk_data]     C:\\Users\\aminm\\AppData\\Roaming\\nltk_data...\n",
      "[nltk_data]   Package stopwords is already up-to-date!\n",
      "[nltk_data] Downloading package wordnet to\n",
      "[nltk_data]     C:\\Users\\aminm\\AppData\\Roaming\\nltk_data...\n",
      "[nltk_data]   Package wordnet is already up-to-date!\n"
     ]
    },
    {
     "data": {
      "text/plain": [
       "True"
      ]
     },
     "execution_count": 13,
     "metadata": {},
     "output_type": "execute_result"
    }
   ],
   "source": [
    "import pandas as pd\n",
    "import re\n",
    "from sklearn.metrics import confusion_matrix\n",
    "from sklearn.metrics import accuracy_score, f1_score, precision_score, recall_score, classification_report\n",
    "from sklearn.linear_model import LogisticRegression\n",
    "import numpy as np\n",
    "\n",
    "import nltk\n",
    "from nltk.stem import PorterStemmer\n",
    "from nltk.tokenize import RegexpTokenizer\n",
    "from nltk.corpus import stopwords\n",
    "from sklearn.model_selection import cross_val_score\n",
    "from matplotlib import pyplot as plt\n",
    "import seaborn as sns\n",
    "from imblearn.over_sampling import SMOTE\n",
    "import warnings\n",
    "warnings.simplefilter(action=\"ignore\", category=FutureWarning)\n",
    "nltk.download('stopwords')\n",
    "nltk.download('wordnet')"
   ]
  },
  {
   "cell_type": "code",
   "execution_count": 14,
   "id": "806799b9",
   "metadata": {},
   "outputs": [
    {
     "data": {
      "text/html": [
       "<div>\n",
       "<style scoped>\n",
       "    .dataframe tbody tr th:only-of-type {\n",
       "        vertical-align: middle;\n",
       "    }\n",
       "\n",
       "    .dataframe tbody tr th {\n",
       "        vertical-align: top;\n",
       "    }\n",
       "\n",
       "    .dataframe thead th {\n",
       "        text-align: right;\n",
       "    }\n",
       "</style>\n",
       "<table border=\"1\" class=\"dataframe\">\n",
       "  <thead>\n",
       "    <tr style=\"text-align: right;\">\n",
       "      <th></th>\n",
       "      <th>Unnamed: 0</th>\n",
       "      <th>count</th>\n",
       "      <th>hate_speech</th>\n",
       "      <th>offensive_language</th>\n",
       "      <th>neither</th>\n",
       "      <th>class</th>\n",
       "      <th>tweet</th>\n",
       "    </tr>\n",
       "  </thead>\n",
       "  <tbody>\n",
       "    <tr>\n",
       "      <th>0</th>\n",
       "      <td>0</td>\n",
       "      <td>3</td>\n",
       "      <td>0</td>\n",
       "      <td>0</td>\n",
       "      <td>3</td>\n",
       "      <td>2</td>\n",
       "      <td>!!! RT @mayasolovely: As a woman you shouldn't...</td>\n",
       "    </tr>\n",
       "    <tr>\n",
       "      <th>40</th>\n",
       "      <td>40</td>\n",
       "      <td>3</td>\n",
       "      <td>0</td>\n",
       "      <td>1</td>\n",
       "      <td>2</td>\n",
       "      <td>2</td>\n",
       "      <td>\" momma said no pussy cats inside my doghouse \"</td>\n",
       "    </tr>\n",
       "    <tr>\n",
       "      <th>63</th>\n",
       "      <td>63</td>\n",
       "      <td>3</td>\n",
       "      <td>0</td>\n",
       "      <td>0</td>\n",
       "      <td>3</td>\n",
       "      <td>2</td>\n",
       "      <td>\"@Addicted2Guys: -SimplyAddictedToGuys http://...</td>\n",
       "    </tr>\n",
       "    <tr>\n",
       "      <th>66</th>\n",
       "      <td>66</td>\n",
       "      <td>3</td>\n",
       "      <td>0</td>\n",
       "      <td>1</td>\n",
       "      <td>2</td>\n",
       "      <td>2</td>\n",
       "      <td>\"@AllAboutManFeet: http://t.co/3gzUpfuMev\" woo...</td>\n",
       "    </tr>\n",
       "    <tr>\n",
       "      <th>67</th>\n",
       "      <td>67</td>\n",
       "      <td>3</td>\n",
       "      <td>0</td>\n",
       "      <td>1</td>\n",
       "      <td>2</td>\n",
       "      <td>2</td>\n",
       "      <td>\"@Allyhaaaaa: Lemmie eat a Oreo &amp;amp; do these...</td>\n",
       "    </tr>\n",
       "  </tbody>\n",
       "</table>\n",
       "</div>"
      ],
      "text/plain": [
       "    Unnamed: 0  count  hate_speech  offensive_language  neither  class   \n",
       "0            0      3            0                   0        3      2  \\\n",
       "40          40      3            0                   1        2      2   \n",
       "63          63      3            0                   0        3      2   \n",
       "66          66      3            0                   1        2      2   \n",
       "67          67      3            0                   1        2      2   \n",
       "\n",
       "                                                tweet  \n",
       "0   !!! RT @mayasolovely: As a woman you shouldn't...  \n",
       "40    \" momma said no pussy cats inside my doghouse \"  \n",
       "63  \"@Addicted2Guys: -SimplyAddictedToGuys http://...  \n",
       "66  \"@AllAboutManFeet: http://t.co/3gzUpfuMev\" woo...  \n",
       "67  \"@Allyhaaaaa: Lemmie eat a Oreo &amp; do these...  "
      ]
     },
     "execution_count": 14,
     "metadata": {},
     "output_type": "execute_result"
    }
   ],
   "source": [
    "#read the file\n",
    "df = pd.read_csv('labeled_data.csv')\n",
    "df = df[df['class'] != 1]\n",
    "df.head()"
   ]
  },
  {
   "cell_type": "code",
   "execution_count": 15,
   "id": "b0aac2b4",
   "metadata": {},
   "outputs": [],
   "source": [
    "#convert the 0 into hateful and 1, 2 into non-hatefull\n",
    "df['target'] = df['class'].apply(lambda x: 'hateful' if x == 0 else \"non-hateful\")"
   ]
  },
  {
   "cell_type": "code",
   "execution_count": 16,
   "id": "d51541be",
   "metadata": {},
   "outputs": [
    {
     "data": {
      "text/html": [
       "<div>\n",
       "<style scoped>\n",
       "    .dataframe tbody tr th:only-of-type {\n",
       "        vertical-align: middle;\n",
       "    }\n",
       "\n",
       "    .dataframe tbody tr th {\n",
       "        vertical-align: top;\n",
       "    }\n",
       "\n",
       "    .dataframe thead th {\n",
       "        text-align: right;\n",
       "    }\n",
       "</style>\n",
       "<table border=\"1\" class=\"dataframe\">\n",
       "  <thead>\n",
       "    <tr style=\"text-align: right;\">\n",
       "      <th></th>\n",
       "      <th>tweet</th>\n",
       "      <th>target</th>\n",
       "    </tr>\n",
       "  </thead>\n",
       "  <tbody>\n",
       "    <tr>\n",
       "      <th>0</th>\n",
       "      <td>!!! RT @mayasolovely: As a woman you shouldn't...</td>\n",
       "      <td>non-hateful</td>\n",
       "    </tr>\n",
       "    <tr>\n",
       "      <th>40</th>\n",
       "      <td>\" momma said no pussy cats inside my doghouse \"</td>\n",
       "      <td>non-hateful</td>\n",
       "    </tr>\n",
       "    <tr>\n",
       "      <th>63</th>\n",
       "      <td>\"@Addicted2Guys: -SimplyAddictedToGuys http://...</td>\n",
       "      <td>non-hateful</td>\n",
       "    </tr>\n",
       "    <tr>\n",
       "      <th>66</th>\n",
       "      <td>\"@AllAboutManFeet: http://t.co/3gzUpfuMev\" woo...</td>\n",
       "      <td>non-hateful</td>\n",
       "    </tr>\n",
       "    <tr>\n",
       "      <th>67</th>\n",
       "      <td>\"@Allyhaaaaa: Lemmie eat a Oreo &amp;amp; do these...</td>\n",
       "      <td>non-hateful</td>\n",
       "    </tr>\n",
       "  </tbody>\n",
       "</table>\n",
       "</div>"
      ],
      "text/plain": [
       "                                                tweet       target\n",
       "0   !!! RT @mayasolovely: As a woman you shouldn't...  non-hateful\n",
       "40    \" momma said no pussy cats inside my doghouse \"  non-hateful\n",
       "63  \"@Addicted2Guys: -SimplyAddictedToGuys http://...  non-hateful\n",
       "66  \"@AllAboutManFeet: http://t.co/3gzUpfuMev\" woo...  non-hateful\n",
       "67  \"@Allyhaaaaa: Lemmie eat a Oreo &amp; do these...  non-hateful"
      ]
     },
     "execution_count": 16,
     "metadata": {},
     "output_type": "execute_result"
    }
   ],
   "source": [
    "df = df[['tweet','target']]\n",
    "df.head()"
   ]
  },
  {
   "cell_type": "code",
   "execution_count": 17,
   "id": "14835925",
   "metadata": {},
   "outputs": [
    {
     "data": {
      "text/plain": [
       "target\n",
       "non-hateful    4163\n",
       "hateful        1430\n",
       "Name: count, dtype: int64"
      ]
     },
     "execution_count": 17,
     "metadata": {},
     "output_type": "execute_result"
    }
   ],
   "source": [
    "df[\"target\"].value_counts()"
   ]
  },
  {
   "cell_type": "code",
   "execution_count": 18,
   "id": "e72ce51d",
   "metadata": {},
   "outputs": [],
   "source": [
    "df['tweet'] = df['tweet'].fillna(\"\")"
   ]
  },
  {
   "cell_type": "code",
   "execution_count": 50,
   "id": "d9bb728c",
   "metadata": {},
   "outputs": [
    {
     "data": {
      "image/png": "[encoded data removed]",
      "text/plain": [
       "<Figure size 1200x800 with 1 Axes>"
      ]
     },
     "metadata": {},
     "output_type": "display_data"
    }
   ],
   "source": [
    "\n",
    "#import seaborn as sns\n",
    "\n",
    "# Assuming you have a DataFrame 'df' with columns 'target'\n",
    "x = list(df['target'].unique())\n",
    "y = df['target'].value_counts()\n",
    "\n",
    "plt.figure(figsize=(12, 8))\n",
    "ax = sns.barplot(x=x, y=y, alpha=0.8)\n",
    "#plt.title(\"Your Title Here\")\n",
    "plt.xlabel(\"Class\")\n",
    "plt.ylabel(\"total tweets\")\n",
    "plt.show()"
   ]
  },
  {
   "cell_type": "code",
   "execution_count": 51,
   "id": "1c170e84",
   "metadata": {},
   "outputs": [],
   "source": [
    "#change the boolean value if you don't check the stop words\n",
    "from nltk.stem import WordNetLemmatizer\n",
    "stop_word_flag = True\n",
    "\n",
    "def clean_data(text_list,label_list):\n",
    "    tokenizer = RegexpTokenizer(r'\\w+')\n",
    "    stemmer = PorterStemmer()\n",
    "    lemmater = WordNetLemmatizer()\n",
    "    stop_word = set(stopwords.words('english'))\n",
    "    pre_text_list = []\n",
    "    pre_label_list = []\n",
    "    for i in range(len(text_list)):\n",
    "        text_list[i] = re.sub('RT','',text_list[i])\n",
    "        #normalize the case\n",
    "        text_list[i] = text_list[i].lower()\n",
    "        #remove the endline\n",
    "        text_list[i] = re.sub('\\n','',text_list[i])\n",
    "        #Remove the tag, mentions and links\n",
    "        text_list[i] = re.sub(r\"(?:\\@|http?\\://|https?\\://|www|#)\\S+\", \"\", text_list[i])\n",
    "        #remove the punctiontions and numbers and remove the stop words\n",
    "        text_list[i] = ' '.join([stemmer.stem(lemmater.lemmatize(word)) for word in tokenizer.tokenize(text_list[i]) if word not in stop_word and stop_word_flag])    \n",
    "        if text_list[i]:\n",
    "            pre_text_list.append(text_list[i])\n",
    "            pre_label_list.append(label_list[i])\n",
    "    return pre_text_list, pre_label_list\n",
    "tweets_list, y_labels = clean_data(df['tweet'].tolist(),df['target'].tolist())"
   ]
  },
  {
   "cell_type": "code",
   "execution_count": 44,
   "id": "e971c293",
   "metadata": {},
   "outputs": [],
   "source": [
    "#y_labels"
   ]
  },
  {
   "cell_type": "code",
   "execution_count": 52,
   "id": "ec2ab17f",
   "metadata": {},
   "outputs": [],
   "source": [
    "from sklearn.feature_extraction.text import TfidfVectorizer\n",
    "# TFIDF Vectoriztion that convert the word into numerical values/features\n",
    "vect_tfidf = TfidfVectorizer()\n",
    "#Fit and transform the training features\n",
    "X_matrix = vect_tfidf.fit_transform(tweets_list)"
   ]
  },
  {
   "cell_type": "code",
   "execution_count": 24,
   "id": "37267ed4",
   "metadata": {},
   "outputs": [],
   "source": [
    "from imblearn.over_sampling import SMOTE\n",
    "smt = SMOTE()\n",
    "#used SMOTE for balanced the dataset using oversampling\n",
    "X_tfidf_smote, y_tfidf_smote = smt.fit_resample(X_matrix,y_labels)"
   ]
  },
  {
   "cell_type": "code",
   "execution_count": 25,
   "id": "eb2c9b28",
   "metadata": {},
   "outputs": [],
   "source": [
    "from sklearn.feature_extraction.text import CountVectorizer\n",
    "# Count Vectoriztion that convert the word into numerical values/features\n",
    "vect_count = CountVectorizer()\n",
    "#Fit and transform the training features\n",
    "X_matrix = vect_count.fit_transform(tweets_list)"
   ]
  },
  {
   "cell_type": "code",
   "execution_count": 26,
   "id": "833e282d",
   "metadata": {},
   "outputs": [],
   "source": [
    "from imblearn.over_sampling import SMOTE\n",
    "smt = SMOTE()\n",
    "#used SMOTE for balanced the dataset using oversampling\n",
    "X_count_smote, y_count_smote = smt.fit_resample(X_matrix,y_labels)"
   ]
  },
  {
   "cell_type": "code",
   "execution_count": 46,
   "id": "7399300b",
   "metadata": {},
   "outputs": [],
   "source": [
    "import glob\n",
    "testset_file_names = [file for file in glob.glob('testset/*')]"
   ]
  },
  {
   "cell_type": "code",
   "execution_count": 47,
   "id": "c3f2719d",
   "metadata": {},
   "outputs": [
    {
     "data": {
      "text/plain": [
       "['testset\\\\hatecheck_test_data_group_black people.csv',\n",
       " 'testset\\\\hatecheck_test_data_group_disabled people.csv',\n",
       " 'testset\\\\hatecheck_test_data_group_gay people.csv',\n",
       " 'testset\\\\hatecheck_test_data_group_immigrants.csv',\n",
       " 'testset\\\\hatecheck_test_data_group_Muslims.csv',\n",
       " 'testset\\\\hatecheck_test_data_group_trans people.csv',\n",
       " 'testset\\\\hatecheck_test_data_group_women.csv']"
      ]
     },
     "execution_count": 47,
     "metadata": {},
     "output_type": "execute_result"
    }
   ],
   "source": [
    "testset_file_names"
   ]
  },
  {
   "cell_type": "code",
   "execution_count": 35,
   "id": "a9e639c3",
   "metadata": {},
   "outputs": [
    {
     "name": "stdout",
     "output_type": "stream",
     "text": [
      "Iteration 1, loss = 0.60077181\n",
      "Iteration 2, loss = 0.16518058\n",
      "Iteration 3, loss = 0.03801563\n",
      "Iteration 4, loss = 0.01571873\n",
      "Iteration 5, loss = 0.00741252\n",
      "Iteration 6, loss = 0.00476776\n",
      "Iteration 7, loss = 0.00357124\n",
      "Iteration 8, loss = 0.00352266\n",
      "Iteration 9, loss = 0.00260403\n",
      "Iteration 10, loss = 0.00277744\n",
      "Iteration 11, loss = 0.00201640\n",
      "Iteration 12, loss = 0.00242084\n",
      "Iteration 13, loss = 0.00232583\n",
      "Iteration 14, loss = 0.00224622\n",
      "Iteration 15, loss = 0.00247585\n",
      "Iteration 16, loss = 0.00180891\n",
      "Iteration 17, loss = 0.00253032\n",
      "Iteration 18, loss = 0.00233979\n",
      "Iteration 19, loss = 0.00259795\n",
      "Iteration 20, loss = 0.00206217\n",
      "Iteration 21, loss = 0.00238693\n",
      "Iteration 22, loss = 0.00189923\n",
      "Iteration 23, loss = 0.00183035\n",
      "Iteration 24, loss = 0.00190932\n",
      "Iteration 25, loss = 0.00191957\n",
      "Iteration 26, loss = 0.00173225\n",
      "Iteration 27, loss = 0.00167078\n",
      "Training loss did not improve more than tol=0.000100 for 10 consecutive epochs. Stopping.\n"
     ]
    }
   ],
   "source": [
    "from sklearn.neural_network import MLPClassifier\n",
    "clf_mlp = MLPClassifier(hidden_layer_sizes=(128,64,32,), activation='relu' ,random_state=1, max_iter=300,verbose=True).fit(X_tfidf_smote, y_tfidf_smote)"
   ]
  },
  {
   "cell_type": "code",
   "execution_count": 16,
   "id": "25c7b546",
   "metadata": {},
   "outputs": [],
   "source": [
    "# #Cross Validation\n",
    "# k_fold = 8\n",
    "# cross_val_score(estimator = clf_mlp, X = X_count_smote, y = y_count_smote, cv = k_fold)"
   ]
  },
  {
   "cell_type": "code",
   "execution_count": 38,
   "id": "9467e797",
   "metadata": {},
   "outputs": [],
   "source": [
    "from sklearn.metrics import classification_report, confusion_matrix"
   ]
  },
  {
   "cell_type": "code",
   "execution_count": 49,
   "id": "6b273988",
   "metadata": {},
   "outputs": [
    {
     "name": "stdout",
     "output_type": "stream",
     "text": [
      "TestSet(hatecheck_test_data_group_black people) LogisticRegression using TfidfVectorizer\n",
      "Classification Report\n",
      "              precision    recall  f1-score   support\n",
      "\n",
      "     hateful       0.75      0.64      0.69       357\n",
      " non-hateful       0.28      0.40      0.33       125\n",
      "\n",
      "    accuracy                           0.58       482\n",
      "   macro avg       0.52      0.52      0.51       482\n",
      "weighted avg       0.63      0.58      0.60       482\n",
      "\n",
      "Confusion Matrix\n",
      "[[230 127]\n",
      " [ 75  50]]\n",
      "--------------------------------------------------------------------------------------------------------------\n",
      "TestSet(hatecheck_test_data_group_disabled people) LogisticRegression using TfidfVectorizer\n",
      "Classification Report\n",
      "              precision    recall  f1-score   support\n",
      "\n",
      "     hateful       0.81      0.42      0.56       373\n",
      " non-hateful       0.25      0.66      0.37       111\n",
      "\n",
      "    accuracy                           0.48       484\n",
      "   macro avg       0.53      0.54      0.46       484\n",
      "weighted avg       0.68      0.48      0.51       484\n",
      "\n",
      "Confusion Matrix\n",
      "[[158 215]\n",
      " [ 38  73]]\n",
      "--------------------------------------------------------------------------------------------------------------\n",
      "TestSet(hatecheck_test_data_group_gay people) LogisticRegression using TfidfVectorizer\n",
      "Classification Report\n",
      "              precision    recall  f1-score   support\n",
      "\n",
      "     hateful       0.68      0.89      0.77       373\n",
      " non-hateful       0.33      0.11      0.17       178\n",
      "\n",
      "    accuracy                           0.64       551\n",
      "   macro avg       0.50      0.50      0.47       551\n",
      "weighted avg       0.56      0.64      0.57       551\n",
      "\n",
      "Confusion Matrix\n",
      "[[332  41]\n",
      " [158  20]]\n",
      "--------------------------------------------------------------------------------------------------------------\n",
      "TestSet(hatecheck_test_data_group_immigrants) LogisticRegression using TfidfVectorizer\n",
      "Classification Report\n",
      "              precision    recall  f1-score   support\n",
      "\n",
      "     hateful       0.77      0.21      0.33       357\n",
      " non-hateful       0.23      0.79      0.36       106\n",
      "\n",
      "    accuracy                           0.34       463\n",
      "   macro avg       0.50      0.50      0.34       463\n",
      "weighted avg       0.65      0.34      0.34       463\n",
      "\n",
      "Confusion Matrix\n",
      "[[ 75 282]\n",
      " [ 22  84]]\n",
      "--------------------------------------------------------------------------------------------------------------\n",
      "TestSet(hatecheck_test_data_group_Muslims) LogisticRegression using TfidfVectorizer\n",
      "Classification Report\n",
      "              precision    recall  f1-score   support\n",
      "\n",
      "     hateful       0.81      0.71      0.75       373\n",
      " non-hateful       0.30      0.42      0.35       111\n",
      "\n",
      "    accuracy                           0.64       484\n",
      "   macro avg       0.55      0.57      0.55       484\n",
      "weighted avg       0.69      0.64      0.66       484\n",
      "\n",
      "Confusion Matrix\n",
      "[[265 108]\n",
      " [ 64  47]]\n",
      "--------------------------------------------------------------------------------------------------------------\n",
      "TestSet(hatecheck_test_data_group_trans people) LogisticRegression using TfidfVectorizer\n",
      "Classification Report\n",
      "              precision    recall  f1-score   support\n",
      "\n",
      "     hateful       0.81      0.55      0.66       357\n",
      " non-hateful       0.28      0.58      0.37       106\n",
      "\n",
      "    accuracy                           0.56       463\n",
      "   macro avg       0.55      0.56      0.52       463\n",
      "weighted avg       0.69      0.56      0.59       463\n",
      "\n",
      "Confusion Matrix\n",
      "[[197 160]\n",
      " [ 45  61]]\n",
      "--------------------------------------------------------------------------------------------------------------\n",
      "TestSet(hatecheck_test_data_group_women) LogisticRegression using TfidfVectorizer\n",
      "Classification Report\n",
      "              precision    recall  f1-score   support\n",
      "\n",
      "     hateful       0.76      0.48      0.59       373\n",
      " non-hateful       0.29      0.59      0.39       136\n",
      "\n",
      "    accuracy                           0.51       509\n",
      "   macro avg       0.53      0.53      0.49       509\n",
      "weighted avg       0.64      0.51      0.54       509\n",
      "\n",
      "Confusion Matrix\n",
      "[[179 194]\n",
      " [ 56  80]]\n",
      "--------------------------------------------------------------------------------------------------------------\n"
     ]
    }
   ],
   "source": [
    "for file_name in testset_file_names:\n",
    "    #read the test file \n",
    "    df_test = pd.read_csv(file_name)\n",
    "    #clean the text of test set\n",
    "    X_test, y_test = clean_data(df_test[\"text\"].tolist(),df_test[\"label\"].tolist())\n",
    "    #transform the matrix\n",
    "    X_test_Matrix = vect_tfidf.transform(X_test)\n",
    "    #predict the matrix\n",
    "    y_pred = clf_mlp.predict(X_test_Matrix)\n",
    "    title = 'TestSet({}) LogisticRegression using TfidfVectorizer'.format(file_name[8:-4])\n",
    "    print(title)\n",
    "    cls_report = classification_report(y_test, y_pred)\n",
    "    conf_matrix = confusion_matrix(y_test, y_pred)\n",
    "    print(\"Classification Report\")\n",
    "    print(cls_report)\n",
    "    print(\"Confusion Matrix\")\n",
    "    print(conf_matrix)\n",
    "    print(\"-\"*110)"
   ]
  },
  {
   "cell_type": "code",
   "execution_count": 55,
   "id": "14c75170",
   "metadata": {},
   "outputs": [
    {
     "data": {
      "text/plain": [
       "<509x8064 sparse matrix of type '<class 'numpy.int64'>'\n",
       "\twith 1824 stored elements in Compressed Sparse Row format>"
      ]
     },
     "execution_count": 55,
     "metadata": {},
     "output_type": "execute_result"
    }
   ],
   "source": [
    "X_test_Matrix"
   ]
  },
  {
   "cell_type": "code",
   "execution_count": 53,
   "id": "d5db8904",
   "metadata": {},
   "outputs": [
    {
     "name": "stdout",
     "output_type": "stream",
     "text": [
      "Iteration 1, loss = 0.54668627\n",
      "Iteration 2, loss = 0.15678569\n",
      "Iteration 3, loss = 0.06248380\n",
      "Iteration 4, loss = 0.03287327\n",
      "Iteration 5, loss = 0.02249258\n",
      "Iteration 6, loss = 0.01624618\n",
      "Iteration 7, loss = 0.01377344\n",
      "Iteration 8, loss = 0.01223907\n",
      "Iteration 9, loss = 0.01135732\n",
      "Iteration 10, loss = 0.01063058\n",
      "Iteration 11, loss = 0.01054599\n",
      "Iteration 12, loss = 0.00970911\n",
      "Iteration 13, loss = 0.00985180\n",
      "Iteration 14, loss = 0.01010576\n",
      "Iteration 15, loss = 0.01025534\n",
      "Iteration 16, loss = 0.01016256\n",
      "Iteration 17, loss = 0.00857675\n",
      "Iteration 18, loss = 0.01013645\n",
      "Iteration 19, loss = 0.00914147\n",
      "Iteration 20, loss = 0.00892353\n",
      "Iteration 21, loss = 0.00948132\n",
      "Iteration 22, loss = 0.00908359\n",
      "Iteration 23, loss = 0.00862741\n",
      "Iteration 24, loss = 0.00851941\n",
      "Iteration 25, loss = 0.00838264\n",
      "Iteration 26, loss = 0.00831621\n",
      "Iteration 27, loss = 0.01003808\n",
      "Iteration 28, loss = 0.00945461\n",
      "Iteration 29, loss = 0.01013510\n",
      "Iteration 30, loss = 0.00850695\n",
      "Iteration 31, loss = 0.00880565\n",
      "Iteration 32, loss = 0.00869632\n",
      "Iteration 33, loss = 0.00875963\n",
      "Iteration 34, loss = 0.00827217\n",
      "Iteration 35, loss = 0.00841600\n",
      "Iteration 36, loss = 0.00832162\n",
      "Training loss did not improve more than tol=0.000100 for 10 consecutive epochs. Stopping.\n"
     ]
    }
   ],
   "source": [
    "from sklearn.neural_network import MLPClassifier\n",
    "clf_mlp = MLPClassifier(hidden_layer_sizes=(128,64,32,), activation='relu' ,random_state=1, max_iter=300,verbose=True).fit(X_count_smote, y_count_smote)"
   ]
  },
  {
   "cell_type": "code",
   "execution_count": 54,
   "id": "39b7c509",
   "metadata": {},
   "outputs": [
    {
     "name": "stdout",
     "output_type": "stream",
     "text": [
      "TestSet(hatecheck_test_data_group_black people) LogisticRegression using CountVectorizer\n",
      "Classification Report\n",
      "              precision    recall  f1-score   support\n",
      "\n",
      "     hateful       0.76      0.95      0.84       357\n",
      " non-hateful       0.47      0.14      0.21       125\n",
      "\n",
      "    accuracy                           0.74       482\n",
      "   macro avg       0.62      0.54      0.53       482\n",
      "weighted avg       0.68      0.74      0.68       482\n",
      "\n",
      "Confusion Matrix\n",
      "[[338  19]\n",
      " [108  17]]\n",
      "--------------------------------------------------------------------------------------------------------------\n",
      "TestSet(hatecheck_test_data_group_disabled people) LogisticRegression using CountVectorizer\n",
      "Classification Report\n",
      "              precision    recall  f1-score   support\n",
      "\n",
      "     hateful       0.81      0.87      0.84       373\n",
      " non-hateful       0.41      0.31      0.35       111\n",
      "\n",
      "    accuracy                           0.74       484\n",
      "   macro avg       0.61      0.59      0.60       484\n",
      "weighted avg       0.72      0.74      0.73       484\n",
      "\n",
      "Confusion Matrix\n",
      "[[325  48]\n",
      " [ 77  34]]\n",
      "--------------------------------------------------------------------------------------------------------------\n",
      "TestSet(hatecheck_test_data_group_gay people) LogisticRegression using CountVectorizer\n",
      "Classification Report\n",
      "              precision    recall  f1-score   support\n",
      "\n",
      "     hateful       0.68      1.00      0.81       373\n",
      " non-hateful       0.86      0.03      0.06       178\n",
      "\n",
      "    accuracy                           0.69       551\n",
      "   macro avg       0.77      0.52      0.44       551\n",
      "weighted avg       0.74      0.69      0.57       551\n",
      "\n",
      "Confusion Matrix\n",
      "[[372   1]\n",
      " [172   6]]\n",
      "--------------------------------------------------------------------------------------------------------------\n",
      "TestSet(hatecheck_test_data_group_immigrants) LogisticRegression using CountVectorizer\n",
      "Classification Report\n",
      "              precision    recall  f1-score   support\n",
      "\n",
      "     hateful       0.82      0.70      0.75       357\n",
      " non-hateful       0.32      0.47      0.38       106\n",
      "\n",
      "    accuracy                           0.65       463\n",
      "   macro avg       0.57      0.58      0.57       463\n",
      "weighted avg       0.70      0.65      0.67       463\n",
      "\n",
      "Confusion Matrix\n",
      "[[249 108]\n",
      " [ 56  50]]\n",
      "--------------------------------------------------------------------------------------------------------------\n",
      "TestSet(hatecheck_test_data_group_Muslims) LogisticRegression using CountVectorizer\n",
      "Classification Report\n",
      "              precision    recall  f1-score   support\n",
      "\n",
      "     hateful       0.79      0.94      0.86       373\n",
      " non-hateful       0.47      0.18      0.26       111\n",
      "\n",
      "    accuracy                           0.76       484\n",
      "   macro avg       0.63      0.56      0.56       484\n",
      "weighted avg       0.72      0.76      0.72       484\n",
      "\n",
      "Confusion Matrix\n",
      "[[350  23]\n",
      " [ 91  20]]\n",
      "--------------------------------------------------------------------------------------------------------------\n",
      "TestSet(hatecheck_test_data_group_trans people) LogisticRegression using CountVectorizer\n",
      "Classification Report\n",
      "              precision    recall  f1-score   support\n",
      "\n",
      "     hateful       0.81      0.89      0.85       357\n",
      " non-hateful       0.43      0.28      0.34       106\n",
      "\n",
      "    accuracy                           0.75       463\n",
      "   macro avg       0.62      0.59      0.59       463\n",
      "weighted avg       0.72      0.75      0.73       463\n",
      "\n",
      "Confusion Matrix\n",
      "[[318  39]\n",
      " [ 76  30]]\n",
      "--------------------------------------------------------------------------------------------------------------\n",
      "TestSet(hatecheck_test_data_group_women) LogisticRegression using CountVectorizer\n",
      "Classification Report\n",
      "              precision    recall  f1-score   support\n",
      "\n",
      "     hateful       0.77      0.69      0.73       373\n",
      " non-hateful       0.35      0.45      0.39       136\n",
      "\n",
      "    accuracy                           0.63       509\n",
      "   macro avg       0.56      0.57      0.56       509\n",
      "weighted avg       0.66      0.63      0.64       509\n",
      "\n",
      "Confusion Matrix\n",
      "[[258 115]\n",
      " [ 75  61]]\n",
      "--------------------------------------------------------------------------------------------------------------\n"
     ]
    }
   ],
   "source": [
    "for file_name in testset_file_names:\n",
    "    #read the test file\n",
    "    df_test = pd.read_csv(file_name)\n",
    "    #clean the text of test set\n",
    "    X_test, y_test = clean_data(df_test[\"text\"].tolist(),df_test[\"label\"].tolist())\n",
    "    #transform the matrix\n",
    "    X_test_Matrix = vect_count.transform(X_test)\n",
    "    #predict the matrix\n",
    "    y_pred = clf_mlp.predict(X_test_Matrix)\n",
    "    title = 'TestSet({}) LogisticRegression using CountVectorizer'.format(file_name[8:-4])\n",
    "    print(title)\n",
    "    cls_report = classification_report(y_test, y_pred)\n",
    "    conf_matrix = confusion_matrix(y_test, y_pred)\n",
    "    print(\"Classification Report\")\n",
    "    print(cls_report)\n",
    "    print(\"Confusion Matrix\")\n",
    "    print(conf_matrix)\n",
    "    print(\"-\"*110)"
   ]
  },
  {
   "cell_type": "code",
   "execution_count": null,
   "id": "bdd932ec",
   "metadata": {},
   "outputs": [],
   "source": []
  }
 ],
 "metadata": {
  "kernelspec": {
   "display_name": "Python 3 (ipykernel)",
   "language": "python",
   "name": "python3"
  },
  "language_info": {
   "codemirror_mode": {
    "name": "ipython",
    "version": 3
   },
   "file_extension": ".py",
   "mimetype": "text/x-python",
   "name": "python",
   "nbconvert_exporter": "python",
   "pygments_lexer": "ipython3",
   "version": "3.11.5"
  }
 },
 "nbformat": 4,
 "nbformat_minor": 5
}
